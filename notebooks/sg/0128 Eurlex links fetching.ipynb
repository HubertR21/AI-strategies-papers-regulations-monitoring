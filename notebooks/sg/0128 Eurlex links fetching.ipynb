{
 "cells": [
  {
   "cell_type": "code",
   "execution_count": 16,
   "metadata": {},
   "outputs": [
    {
     "data": {
      "text/plain": [
       "True"
      ]
     },
     "execution_count": 16,
     "metadata": {},
     "output_type": "execute_result"
    }
   ],
   "source": [
    "import os\n",
    "import dotenv\n",
    "os.chdir('../..')\n",
    "\n",
    "dotenv.load_dotenv(override=True) "
   ]
  },
  {
   "cell_type": "code",
   "execution_count": 17,
   "metadata": {},
   "outputs": [
    {
     "name": "stdout",
     "output_type": "stream",
     "text": [
      "The autoreload extension is already loaded. To reload it, use:\n",
      "  %reload_ext autoreload\n"
     ]
    },
    {
     "data": {
      "text/plain": [
       "'http://poz.wektor.xyz:58200/'"
      ]
     },
     "execution_count": 17,
     "metadata": {},
     "output_type": "execute_result"
    }
   ],
   "source": [
    "%load_ext autoreload\n",
    "%autoreload 2\n",
    "\n",
    "from mars import config\n",
    "from mars.db import collections\n",
    "from lxml import etree\n",
    "import requests\n",
    "from tqdm import tqdm\n",
    "config.arango_url"
   ]
  },
  {
   "cell_type": "code",
   "execution_count": 18,
   "metadata": {},
   "outputs": [],
   "source": [
    "data = list(collections.document_sources.fetchByExample({'source_website':\"eurlex\"}, batchSize = 1000, rawResults=True))"
   ]
  },
  {
   "cell_type": "code",
   "execution_count": null,
   "metadata": {},
   "outputs": [
    {
     "name": "stderr",
     "output_type": "stream",
     "text": [
      "  1%|▎                                                   | 38/5720 [00:17<1:01:46,  1.53it/s]"
     ]
    }
   ],
   "source": [
    "all_links=[]\n",
    "for b in tqdm(data):\n",
    "    try:\n",
    "        r = requests.get(b['url']+'?language=en',headers={\"Accept\": \"application/xml;notice=object\"})\n",
    "\n",
    "        root = etree.fromstring(r.content)\n",
    "        links = root.findall(\".//WORK/*[@type='link']\")\n",
    "        all_links.append(links)\n",
    "        \n",
    "    except e:\n",
    "        print(e)"
   ]
  },
  {
   "cell_type": "code",
   "execution_count": null,
   "metadata": {},
   "outputs": [],
   "source": []
  }
 ],
 "metadata": {
  "interpreter": {
   "hash": "a6d65d3dc58c25f87397708fe653140229baa2516a1032dc239d759adb8fa645"
  },
  "kernelspec": {
   "display_name": "Python 3 (ipykernel)",
   "language": "python",
   "name": "python3"
  },
  "language_info": {
   "codemirror_mode": {
    "name": "ipython",
    "version": 3
   },
   "file_extension": ".py",
   "mimetype": "text/x-python",
   "name": "python",
   "nbconvert_exporter": "python",
   "pygments_lexer": "ipython3",
   "version": "3.8.10"
  }
 },
 "nbformat": 4,
 "nbformat_minor": 2
}
