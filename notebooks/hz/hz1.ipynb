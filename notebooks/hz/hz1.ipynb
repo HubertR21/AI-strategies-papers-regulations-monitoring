{
 "cells": [
  {
   "cell_type": "code",
   "execution_count": 5,
   "metadata": {},
   "outputs": [
    {
     "name": "stdout",
     "output_type": "stream",
     "text": [
      "/home/hania/.cache/pypoetry/virtualenvs/mars-auBTAh37-py3.8/bin/jupyter\r\n"
     ]
    }
   ],
   "source": [
    "!which jupyter"
   ]
  },
  {
   "cell_type": "code",
   "execution_count": 6,
   "metadata": {},
   "outputs": [
    {
     "name": "stdout",
     "output_type": "stream",
     "text": [
      "Collecting en-core-web-sm==3.0.0\n",
      "  Downloading https://github.com/explosion/spacy-models/releases/download/en_core_web_sm-3.0.0/en_core_web_sm-3.0.0-py3-none-any.whl (13.7 MB)\n",
      "\u001b[K     |████████████████████████████████| 13.7 MB 2.0 MB/s eta 0:00:01\n",
      "\u001b[?25hRequirement already satisfied: spacy<3.1.0,>=3.0.0 in /home/hania/.cache/pypoetry/virtualenvs/mars-auBTAh37-py3.8/lib/python3.8/site-packages (from en-core-web-sm==3.0.0) (3.0.6)\n",
      "Requirement already satisfied: jinja2 in /home/hania/.cache/pypoetry/virtualenvs/mars-auBTAh37-py3.8/lib/python3.8/site-packages (from spacy<3.1.0,>=3.0.0->en-core-web-sm==3.0.0) (3.0.1)\n",
      "Requirement already satisfied: spacy-legacy<3.1.0,>=3.0.4 in /home/hania/.cache/pypoetry/virtualenvs/mars-auBTAh37-py3.8/lib/python3.8/site-packages (from spacy<3.1.0,>=3.0.0->en-core-web-sm==3.0.0) (3.0.6)\n",
      "Requirement already satisfied: pathy>=0.3.5 in /home/hania/.cache/pypoetry/virtualenvs/mars-auBTAh37-py3.8/lib/python3.8/site-packages (from spacy<3.1.0,>=3.0.0->en-core-web-sm==3.0.0) (0.6.0)\n",
      "Requirement already satisfied: tqdm<5.0.0,>=4.38.0 in /home/hania/.cache/pypoetry/virtualenvs/mars-auBTAh37-py3.8/lib/python3.8/site-packages (from spacy<3.1.0,>=3.0.0->en-core-web-sm==3.0.0) (4.61.1)\n",
      "Requirement already satisfied: numpy>=1.15.0 in /home/hania/.cache/pypoetry/virtualenvs/mars-auBTAh37-py3.8/lib/python3.8/site-packages (from spacy<3.1.0,>=3.0.0->en-core-web-sm==3.0.0) (1.21.0)\n",
      "Requirement already satisfied: murmurhash<1.1.0,>=0.28.0 in /home/hania/.cache/pypoetry/virtualenvs/mars-auBTAh37-py3.8/lib/python3.8/site-packages (from spacy<3.1.0,>=3.0.0->en-core-web-sm==3.0.0) (1.0.5)\n",
      "Requirement already satisfied: typer<0.4.0,>=0.3.0 in /home/hania/.cache/pypoetry/virtualenvs/mars-auBTAh37-py3.8/lib/python3.8/site-packages (from spacy<3.1.0,>=3.0.0->en-core-web-sm==3.0.0) (0.3.2)\n",
      "Requirement already satisfied: requests<3.0.0,>=2.13.0 in /home/hania/.cache/pypoetry/virtualenvs/mars-auBTAh37-py3.8/lib/python3.8/site-packages (from spacy<3.1.0,>=3.0.0->en-core-web-sm==3.0.0) (2.25.1)\n",
      "Requirement already satisfied: packaging>=20.0 in /home/hania/.cache/pypoetry/virtualenvs/mars-auBTAh37-py3.8/lib/python3.8/site-packages (from spacy<3.1.0,>=3.0.0->en-core-web-sm==3.0.0) (21.0)\n",
      "Requirement already satisfied: catalogue<2.1.0,>=2.0.3 in /home/hania/.cache/pypoetry/virtualenvs/mars-auBTAh37-py3.8/lib/python3.8/site-packages (from spacy<3.1.0,>=3.0.0->en-core-web-sm==3.0.0) (2.0.4)\n",
      "Requirement already satisfied: preshed<3.1.0,>=3.0.2 in /home/hania/.cache/pypoetry/virtualenvs/mars-auBTAh37-py3.8/lib/python3.8/site-packages (from spacy<3.1.0,>=3.0.0->en-core-web-sm==3.0.0) (3.0.5)\n",
      "Requirement already satisfied: pydantic<1.8.0,>=1.7.1 in /home/hania/.cache/pypoetry/virtualenvs/mars-auBTAh37-py3.8/lib/python3.8/site-packages (from spacy<3.1.0,>=3.0.0->en-core-web-sm==3.0.0) (1.7.4)\n",
      "Requirement already satisfied: thinc<8.1.0,>=8.0.3 in /home/hania/.cache/pypoetry/virtualenvs/mars-auBTAh37-py3.8/lib/python3.8/site-packages (from spacy<3.1.0,>=3.0.0->en-core-web-sm==3.0.0) (8.0.7)\n",
      "Requirement already satisfied: cymem<2.1.0,>=2.0.2 in /home/hania/.cache/pypoetry/virtualenvs/mars-auBTAh37-py3.8/lib/python3.8/site-packages (from spacy<3.1.0,>=3.0.0->en-core-web-sm==3.0.0) (2.0.5)\n",
      "Requirement already satisfied: setuptools in /home/hania/.cache/pypoetry/virtualenvs/mars-auBTAh37-py3.8/lib/python3.8/site-packages (from spacy<3.1.0,>=3.0.0->en-core-web-sm==3.0.0) (57.0.0)\n",
      "Requirement already satisfied: blis<0.8.0,>=0.4.0 in /home/hania/.cache/pypoetry/virtualenvs/mars-auBTAh37-py3.8/lib/python3.8/site-packages (from spacy<3.1.0,>=3.0.0->en-core-web-sm==3.0.0) (0.7.4)\n",
      "Requirement already satisfied: srsly<3.0.0,>=2.4.1 in /home/hania/.cache/pypoetry/virtualenvs/mars-auBTAh37-py3.8/lib/python3.8/site-packages (from spacy<3.1.0,>=3.0.0->en-core-web-sm==3.0.0) (2.4.1)\n",
      "Requirement already satisfied: wasabi<1.1.0,>=0.8.1 in /home/hania/.cache/pypoetry/virtualenvs/mars-auBTAh37-py3.8/lib/python3.8/site-packages (from spacy<3.1.0,>=3.0.0->en-core-web-sm==3.0.0) (0.8.2)\n",
      "Requirement already satisfied: pyparsing>=2.0.2 in /home/hania/.cache/pypoetry/virtualenvs/mars-auBTAh37-py3.8/lib/python3.8/site-packages (from packaging>=20.0->spacy<3.1.0,>=3.0.0->en-core-web-sm==3.0.0) (2.4.7)\n",
      "Requirement already satisfied: smart-open<6.0.0,>=5.0.0 in /home/hania/.cache/pypoetry/virtualenvs/mars-auBTAh37-py3.8/lib/python3.8/site-packages (from pathy>=0.3.5->spacy<3.1.0,>=3.0.0->en-core-web-sm==3.0.0) (5.1.0)\n",
      "Requirement already satisfied: idna<3,>=2.5 in /home/hania/.cache/pypoetry/virtualenvs/mars-auBTAh37-py3.8/lib/python3.8/site-packages (from requests<3.0.0,>=2.13.0->spacy<3.1.0,>=3.0.0->en-core-web-sm==3.0.0) (2.10)\n",
      "Requirement already satisfied: certifi>=2017.4.17 in /home/hania/.cache/pypoetry/virtualenvs/mars-auBTAh37-py3.8/lib/python3.8/site-packages (from requests<3.0.0,>=2.13.0->spacy<3.1.0,>=3.0.0->en-core-web-sm==3.0.0) (2021.5.30)\n",
      "Requirement already satisfied: chardet<5,>=3.0.2 in /home/hania/.cache/pypoetry/virtualenvs/mars-auBTAh37-py3.8/lib/python3.8/site-packages (from requests<3.0.0,>=2.13.0->spacy<3.1.0,>=3.0.0->en-core-web-sm==3.0.0) (4.0.0)\n",
      "Requirement already satisfied: urllib3<1.27,>=1.21.1 in /home/hania/.cache/pypoetry/virtualenvs/mars-auBTAh37-py3.8/lib/python3.8/site-packages (from requests<3.0.0,>=2.13.0->spacy<3.1.0,>=3.0.0->en-core-web-sm==3.0.0) (1.26.6)\n",
      "Requirement already satisfied: click<7.2.0,>=7.1.1 in /home/hania/.cache/pypoetry/virtualenvs/mars-auBTAh37-py3.8/lib/python3.8/site-packages (from typer<0.4.0,>=0.3.0->spacy<3.1.0,>=3.0.0->en-core-web-sm==3.0.0) (7.1.2)\n",
      "Requirement already satisfied: MarkupSafe>=2.0 in /home/hania/.cache/pypoetry/virtualenvs/mars-auBTAh37-py3.8/lib/python3.8/site-packages (from jinja2->spacy<3.1.0,>=3.0.0->en-core-web-sm==3.0.0) (2.0.1)\n",
      "Installing collected packages: en-core-web-sm\n",
      "Successfully installed en-core-web-sm-3.0.0\n",
      "\u001b[33mWARNING: You are using pip version 21.1.2; however, version 21.1.3 is available.\n",
      "You should consider upgrading via the '/home/hania/.cache/pypoetry/virtualenvs/mars-auBTAh37-py3.8/bin/python -m pip install --upgrade pip' command.\u001b[0m\n",
      "\u001b[38;5;2m✔ Download and installation successful\u001b[0m\n",
      "You can now load the package via spacy.load('en_core_web_sm')\n"
     ]
    }
   ],
   "source": [
    "!python -m spacy download en_core_web_sm"
   ]
  },
  {
   "cell_type": "code",
   "execution_count": 2,
   "metadata": {},
   "outputs": [],
   "source": [
    "import spacy\n",
    "import os\n",
    "\n",
    "os.chdir(\"../../\")"
   ]
  },
  {
   "cell_type": "code",
   "execution_count": 3,
   "metadata": {},
   "outputs": [],
   "source": [
    "with open(\"texts/24278.txt\") as f:\n",
    "    x = f.read()"
   ]
  },
  {
   "cell_type": "code",
   "execution_count": 7,
   "metadata": {},
   "outputs": [],
   "source": [
    "nlp = spacy.load(\"en_core_web_sm\")"
   ]
  },
  {
   "cell_type": "code",
   "execution_count": null,
   "metadata": {},
   "outputs": [],
   "source": [
    "doc = nlp(x)"
   ]
  },
  {
   "cell_type": "code",
   "execution_count": 8,
   "metadata": {},
   "outputs": [
    {
     "data": {
      "text/plain": [
       "{1: 5, 0: 721}"
      ]
     },
     "execution_count": 8,
     "metadata": {},
     "output_type": "execute_result"
    }
   ],
   "source": [
    "doc.count_by(3)"
   ]
  },
  {
   "cell_type": "code",
   "execution_count": 24,
   "metadata": {},
   "outputs": [
    {
     "data": {
      "text/plain": [
       "'implement'"
      ]
     },
     "execution_count": 24,
     "metadata": {},
     "output_type": "execute_result"
    }
   ],
   "source": [
    "doc[38].lemma_"
   ]
  },
  {
   "cell_type": "code",
   "execution_count": null,
   "metadata": {},
   "outputs": [],
   "source": [
    "\"mean\""
   ]
  },
  {
   "cell_type": "code",
   "execution_count": 25,
   "metadata": {},
   "outputs": [],
   "source": [
    "word = doc[38]"
   ]
  },
  {
   "cell_type": "markdown",
   "metadata": {},
   "source": [
    "zdanie | co jest definiowane | przez co jest definiowane"
   ]
  },
  {
   "cell_type": "code",
   "execution_count": 50,
   "metadata": {},
   "outputs": [],
   "source": [
    "definitions = []\n",
    "for sen in doc.sents:\n",
    "    def_found = False\n",
    "    for word in sen:\n",
    "        if word.lemma_ in [\"mean\", \"refer\"] and not def_found:\n",
    "            definitions.append(sen)"
   ]
  },
  {
   "cell_type": "code",
   "execution_count": 51,
   "metadata": {},
   "outputs": [
    {
     "data": {
      "text/plain": [
       "[\n",
       "  1 Artificial intelligence, AI, refers to the intelligence attributed to a computer system, and to a research area focused on the \n",
       " construction of computer systems that display intelligent behavior.]"
      ]
     },
     "execution_count": 51,
     "metadata": {},
     "output_type": "execute_result"
    }
   ],
   "source": [
    "definitions"
   ]
  },
  {
   "cell_type": "code",
   "execution_count": 52,
   "metadata": {},
   "outputs": [],
   "source": [
    "def_ = definitions[0]"
   ]
  },
  {
   "cell_type": "code",
   "execution_count": null,
   "metadata": {},
   "outputs": [],
   "source": [
    "\"\"\"\n",
    "import mair.deontics\n",
    "import mair.doc_ids\n",
    "import pandas as pd\n",
    "from mair.data_loading import load_parsed_legal_documents\n",
    "\n",
    "# INPUT:   \"data/processed/intermediate/parsed_legal_texts.joblib\"\n",
    "IN_META = \"data/policy_docs_all/metadata.csv\"\n",
    "OUT = \"data/processed/deontics.csv\"\n",
    "if __name__ == \"__main__\":\n",
    "    df_meta = pd.read_csv(\"data/policy_docs_all/metadata.csv\")\n",
    "    parsed_documents = load_parsed_legal_documents()\n",
    "\n",
    "    result_df = mair.deontics.get_deontic_sentences_table(parsed_documents)\n",
    "\n",
    "    final_df = pd.DataFrame()\n",
    "    final_df[\"id\"] = result_df[\"raw_text_path\"].apply(mair.doc_ids.legal_doc_path_to_id)\n",
    "    final_df[\"verb\"] = result_df[\"verb\"].apply(lambda t: t.lemma_.lower())\n",
    "    final_df[\"subject\"] = result_df.apply(\n",
    "        lambda row: mair.deontics.final_subjects(row[\"subject\"], row[\"subjectCoref\"]),\n",
    "        axis=1,\n",
    "    )\n",
    "    final_df[\"sent\"] = result_df[\"sent\"].apply(\n",
    "        lambda sent: sent.text.replace(\"\\n\", \" \")\n",
    "    )\n",
    "    final_df[\"modal\"] = result_df[\"modal\"]\n",
    "    final_df[\"isQuestion\"] = result_df[\"isQuestion\"]\n",
    "    final_df[\"negated\"] = result_df[\"negated\"]\n",
    "\n",
    "    final_df = final_df.merge(df_meta, on=\"id\", how=\"left\")\n",
    "    final_df = final_df.explode(\"subject\")  # convert lists to multiple rows}\n",
    "\"\"\""
   ]
  }
 ],
 "metadata": {
  "kernelspec": {
   "display_name": "Python 3 (ipykernel)",
   "language": "python",
   "name": "python3"
  },
  "language_info": {
   "codemirror_mode": {
    "name": "ipython",
    "version": 3
   },
   "file_extension": ".py",
   "mimetype": "text/x-python",
   "name": "python",
   "nbconvert_exporter": "python",
   "pygments_lexer": "ipython3",
   "version": "3.8.5"
  }
 },
 "nbformat": 4,
 "nbformat_minor": 4
}
